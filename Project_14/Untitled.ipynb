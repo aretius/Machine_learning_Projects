{
 "cells": [
  {
   "cell_type": "code",
   "execution_count": 1,
   "metadata": {
    "collapsed": false,
    "deletable": true,
    "editable": true
   },
   "outputs": [],
   "source": [
    "import pandas as pd\n",
    "import numpy as np\n",
    "import os as os\n",
    "# import nltk\n",
    "import xgboost as xgb\n",
    "import pandas as pd\n",
    "import numpy as np\n",
    "import xgboost as xgb\n",
    "from xgboost.sklearn import XGBClassifier\n",
    "\n",
    "from sklearn.linear_model import LogisticRegression\n",
    "from xgboost.sklearn import XGBClassifier\n",
    "from sklearn.datasets import load_mlcomp\n",
    "from sklearn.feature_extraction.text import TfidfVectorizer\n",
    "from sklearn.linear_model import SGDClassifier\n",
    "from sklearn.metrics import confusion_matrix\n",
    "from sklearn.metrics import classification_report\n",
    "from sklearn.naive_bayes import MultinomialNB\n",
    "from sklearn.naive_bayes import BernoulliNB\n",
    "from sklearn.naive_bayes import GaussianNB\n",
    "from sklearn.ensemble import ExtraTreesClassifier\n",
    "from sklearn.preprocessing import StandardScaler\n",
    "from sklearn.datasets import make_moons, make_circles, make_classification\n",
    "from sklearn.neural_network import MLPClassifier\n",
    "from sklearn.neighbors import KNeighborsClassifier"
   ]
  },
  {
   "cell_type": "code",
   "execution_count": 2,
   "metadata": {
    "collapsed": false,
    "deletable": true,
    "editable": true
   },
   "outputs": [],
   "source": [
    "train = pd.read_table(\"C:\\\\Users\\\\Amil Khare\\\\Documents\\\\indeed\\\\train.tsv\")\n",
    "test = pd.read_table(\"C:\\\\Users\\\\Amil Khare\\\\Documents\\\\indeed\\\\test.tsv\")\n",
    "train = train.dropna()"
   ]
  },
  {
   "cell_type": "code",
   "execution_count": 3,
   "metadata": {
    "collapsed": false,
    "deletable": true,
    "editable": true
   },
   "outputs": [],
   "source": [
    "def modelfit(alg, dtrain,x,y,useTrainCV=True, cv_folds=5, early_stopping_rounds=50):\n",
    "    \n",
    "    if useTrainCV:\n",
    "        xgb_param = alg.get_xgb_params()\n",
    "        xgtrain = xgb.DMatrix(x, y)\n",
    "        cvresult = xgb.cv(xgb_param, xgtrain, num_boost_round=alg.get_params()['n_estimators'], nfold=cv_folds,\n",
    "            metrics='auc', early_stopping_rounds=early_stopping_rounds)\n",
    "        alg.set_params(n_estimators=cvresult.shape[0])\n",
    "    \n",
    "    #Fit the algorithm on the data\n",
    "    alg.fit(x, y,eval_metric='auc')\n",
    "        \n",
    "    #Predict training set:\n",
    "    dtrain_predictions = alg.predict(x)\n",
    "    dtrain_predprob = alg.predict_proba(x)[:,1]\n",
    "        \n",
    "    #Print model report:\n",
    "    print(\"\\nModel Report\")\n",
    "    print(\"Accuracy : %.4g\" % metrics.accuracy_score(y.values, dtrain_predictions))\n",
    "    print(\"AUC Score (Train): %f\" % metrics.roc_auc_score(y, dtrain_predprob))\n",
    "                    \n",
    "    feat_imp = pd.Series(alg.booster().get_fscore()).sort_values(ascending=False)\n",
    "    feat_imp.plot(kind='bar', title='Feature Importances')\n",
    "    plt.ylabel('Feature Importance Score')"
   ]
  },
  {
   "cell_type": "code",
   "execution_count": 4,
   "metadata": {
    "collapsed": true,
    "deletable": true,
    "editable": true
   },
   "outputs": [],
   "source": [
    "# def modelfit(alg, dtrain, predictors,useTrainCV=True, cv_folds=5, early_stopping_rounds=50):\n",
    "    \n",
    "#     if useTrainCV:\n",
    "#         xgb_param = alg.get_xgb_params()\n",
    "#         xgtrain = xgb.DMatrix(dtrain[predictors].values, label=dtrain[target].values)\n",
    "#         cvresult = xgb.cv(xgb_param, xgtrain, num_boost_round=alg.get_params()['n_estimators'], nfold=cv_folds,\n",
    "#             metrics='auc', early_stopping_rounds=early_stopping_rounds, show_progress=False)\n",
    "#         alg.set_params(n_estimators=cvresult.shape[0])\n",
    "    \n",
    "#     #Fit the algorithm on the data\n",
    "#     alg.fit(dtrain[predictors], dtrain['Disbursed'],eval_metric='auc')\n",
    "        \n",
    "#     #Predict training set:\n",
    "#     dtrain_predictions = alg.predict(dtrain[predictors])\n",
    "#     dtrain_predprob = alg.predict_proba(dtrain[predictors])[:,1]\n",
    "        \n",
    "#     #Print model report:\n",
    "#     print \"\\nModel Report\"\n",
    "#     print \"Accuracy : %.4g\" % metrics.accuracy_score(dtrain['Disbursed'].values, dtrain_predictions)\n",
    "#     print \"AUC Score (Train): %f\" % metrics.roc_auc_score(dtrain['Disbursed'], dtrain_predprob)\n",
    "                    \n",
    "#     feat_imp = pd.Series(alg.booster().get_fscore()).sort_values(ascending=False)\n",
    "#     feat_imp.plot(kind='bar', title='Feature Importances')\n",
    "#     plt.ylabel('Feature Importance Score')"
   ]
  },
  {
   "cell_type": "code",
   "execution_count": 5,
   "metadata": {
    "collapsed": false,
    "deletable": true,
    "editable": true
   },
   "outputs": [],
   "source": [
    "#                                                         part-time-job\n",
    "#                                                         full-time-job\n",
    "#                                                         hourly-wage\n",
    "#                                                         salary\n",
    "#                                                         associate-needed\n",
    "#                                                         bs-degree-needed\n",
    "#                                                         ms-or-phd-needed\n",
    "#                                                         licence-needed\n",
    "#                                                         1-year-experience-needed\n",
    "#                                                         2-4-years-experience-needed\n",
    "#                                                         5-plus-years-experience-needed\n",
    "#                                                         supervising-job"
   ]
  },
  {
   "cell_type": "code",
   "execution_count": 6,
   "metadata": {
    "collapsed": true,
    "deletable": true,
    "editable": true
   },
   "outputs": [],
   "source": [
    "vectorizer = TfidfVectorizer()\n",
    "x = vectorizer.fit_transform(train['description'])"
   ]
  },
  {
   "cell_type": "code",
   "execution_count": 7,
   "metadata": {
    "collapsed": true,
    "deletable": true,
    "editable": true
   },
   "outputs": [],
   "source": [
    "temper = pd.DataFrame()"
   ]
  },
  {
   "cell_type": "code",
   "execution_count": 8,
   "metadata": {
    "collapsed": false,
    "deletable": true,
    "editable": true
   },
   "outputs": [],
   "source": [
    "pz = x.toarray()"
   ]
  },
  {
   "cell_type": "code",
   "execution_count": 9,
   "metadata": {
    "collapsed": false,
    "deletable": true,
    "editable": true
   },
   "outputs": [
    {
     "name": "stdout",
     "output_type": "stream",
     "text": [
      "1\n"
     ]
    }
   ],
   "source": [
    "print(1)"
   ]
  },
  {
   "cell_type": "code",
   "execution_count": 10,
   "metadata": {
    "collapsed": false,
    "deletable": true,
    "editable": true
   },
   "outputs": [],
   "source": [
    "temper['p_label'] = train['tags'].str.contains('part-time-job')"
   ]
  },
  {
   "cell_type": "code",
   "execution_count": 11,
   "metadata": {
    "collapsed": false,
    "deletable": true,
    "editable": true
   },
   "outputs": [],
   "source": [
    "temper['p_label'] = temper['p_label'].astype(int)\n",
    "temper['description'] = train['description']"
   ]
  },
  {
   "cell_type": "code",
   "execution_count": 12,
   "metadata": {
    "collapsed": false,
    "deletable": true,
    "editable": true
   },
   "outputs": [],
   "source": [
    "y_train = temper['p_label']"
   ]
  },
  {
   "cell_type": "code",
   "execution_count": 13,
   "metadata": {
    "collapsed": false,
    "deletable": true,
    "editable": true
   },
   "outputs": [],
   "source": [
    "gb1 = BernoulliNB(alpha = 0.1)\n",
    "clf1 = LogisticRegression(C = 30.9999999999999999999,penalty  = 'l1')"
   ]
  },
  {
   "cell_type": "code",
   "execution_count": null,
   "metadata": {
    "collapsed": false,
    "deletable": true,
    "editable": true
   },
   "outputs": [
    {
     "data": {
      "text/plain": [
       "LogisticRegression(C=31.0, class_weight=None, dual=False, fit_intercept=True,\n",
       "          intercept_scaling=1, max_iter=100, multi_class='ovr', n_jobs=1,\n",
       "          penalty='l1', random_state=None, solver='liblinear', tol=0.0001,\n",
       "          verbose=0, warm_start=False)"
      ]
     },
     "execution_count": 14,
     "metadata": {},
     "output_type": "execute_result"
    }
   ],
   "source": [
    "gb1.fit(x.toarray(),y_train)\n",
    "clf1.fit(x.toarray(),y_train)"
   ]
  },
  {
   "cell_type": "code",
   "execution_count": null,
   "metadata": {
    "collapsed": false,
    "deletable": true,
    "editable": true
   },
   "outputs": [],
   "source": [
    "xgb1 = XGBClassifier(\n",
    " learning_rate =0.1,\n",
    " n_estimators=150,\n",
    " max_depth=5,\n",
    " min_child_weight=1,\n",
    " gamma=0,\n",
    " subsample=0.8,\n",
    " colsample_bytree=0.8,\n",
    " objective= 'binary:logistic',\n",
    " nthread=4,\n",
    " scale_pos_weight=1,\n",
    " seed=27)\n",
    "t = []\n",
    "modelfit(xgb1, t,x.toarray(),y_train)"
   ]
  },
  {
   "cell_type": "code",
   "execution_count": null,
   "metadata": {
    "collapsed": true,
    "deletable": true,
    "editable": true
   },
   "outputs": [],
   "source": [
    "clf1 = xgb1"
   ]
  },
  {
   "cell_type": "code",
   "execution_count": null,
   "metadata": {
    "collapsed": false,
    "deletable": true,
    "editable": true
   },
   "outputs": [],
   "source": [
    "temper = pd.DataFrame()\n",
    "temper['p_label'] = train['tags'].str.contains('full-time-job')\n",
    "temper['p_label'] = temper['p_label'].astype(int)\n",
    "# temper['description'] = y['description']\n",
    "# vectorizer = TfidfVectorizer()\n",
    "# x_train = vectorizer.fit_transform(temper['description'])\n",
    "y_train = temper['p_label']\n",
    "gb2 = BernoulliNB(alpha = 0.1)\n",
    "gb2.fit(x.toarray(),y_train)\n",
    "clf2 = LogisticRegression(C = 30.9999999999999999999,penalty  = 'l1')\n",
    "clf2.fit(x.toarray(),y_train)"
   ]
  },
  {
   "cell_type": "code",
   "execution_count": null,
   "metadata": {
    "collapsed": false,
    "deletable": true,
    "editable": true
   },
   "outputs": [],
   "source": [
    "temper = pd.DataFrame()\n",
    "temper['p_label'] = train['tags'].str.contains('hourly-wage')\n",
    "temper['p_label'] = temper['p_label'].astype(int)\n",
    "# temper['description'] = y['description']\n",
    "# vectorizer = TfidfVectorizer()\n",
    "# x_train = vectorizer.fit_transform(temper['description'])\n",
    "y_train = temper['p_label']\n",
    "gb3 = BernoulliNB(alpha = 0.1)\n",
    "gb3.fit(x.toarray(),y_train)\n",
    "clf3 = LogisticRegression(C = 30.9999999999999999999,penalty  = 'l1')\n",
    "clf3.fit(x.toarray(),y_train)"
   ]
  },
  {
   "cell_type": "code",
   "execution_count": null,
   "metadata": {
    "collapsed": false,
    "deletable": true,
    "editable": true
   },
   "outputs": [],
   "source": [
    "temper = pd.DataFrame()\n",
    "temper['p_label'] = train['tags'].str.contains('salary')\n",
    "temper['p_label'] = temper['p_label'].astype(int)\n",
    "# temper['description'] = y['description']\n",
    "# vectorizer = TfidfVectorizer()\n",
    "# x_train = vectorizer.fit_transform(temper['description'])\n",
    "y_train = temper['p_label']\n",
    "gb4 = BernoulliNB(alpha = 0.1)\n",
    "gb4.fit(x.toarray(),y_train)\n",
    "\n",
    "# clf4 = ExtraTreesClassifier(n_estimators=100, max_depth=12,min_samples_split=2, random_state=1)\n",
    "# xg_train = xgb.DMatrix( x.toarray(), label = y_train)\n",
    "# clf44 = xgb.train(params, xg_train, 5,  verbose_eval=25)\n",
    "# clf4.fit(x.toarray(),y_train)\n",
    "clf4 = LogisticRegression(C = 30.9999999999999999999,penalty  = 'l1')\n",
    "clf4.fit(x.toarray(),y_train)"
   ]
  },
  {
   "cell_type": "code",
   "execution_count": null,
   "metadata": {
    "collapsed": false,
    "deletable": true,
    "editable": true
   },
   "outputs": [],
   "source": [
    "temper = pd.DataFrame()\n",
    "temper['p_label'] = train['tags'].str.contains('associate-needed')\n",
    "temper['p_label'] = temper['p_label'].astype(int)\n",
    "# temper['description'] = y['description']\n",
    "# vectorizer = TfidfVectorizer()\n",
    "# x_train = vectorizer.fit_transform(temper['description'])\n",
    "y_train = temper['p_label']\n",
    "gb5 = BernoulliNB(alpha = 0.1)\n",
    "gb5.fit(x.toarray(),y_train)\n",
    "\n",
    "clf5 = LogisticRegression(C = 30.9999999999999999999,penalty  = 'l1')\n",
    "clf5.fit(x.toarray(),y_train)"
   ]
  },
  {
   "cell_type": "code",
   "execution_count": null,
   "metadata": {
    "collapsed": false,
    "deletable": true,
    "editable": true
   },
   "outputs": [],
   "source": [
    "temper = pd.DataFrame()\n",
    "temper['p_label'] = train['tags'].str.contains('bs-degree-needed')\n",
    "temper['p_label'] = temper['p_label'].astype(int)\n",
    "# temper['description'] = y['description']\n",
    "# vectorizer = TfidfVectorizer()\n",
    "# x_train = vectorizer.fit_transform(temper['description'])\n",
    "y_train = temper['p_label']\n",
    "gb6 = BernoulliNB(alpha = 0.1)\n",
    "gb6.fit(x.toarray(),y_train)\n",
    "\n",
    "clf6 = LogisticRegression(C = 30.9999999999999999999,penalty  = 'l1')\n",
    "clf6.fit(x.toarray(),y_train)"
   ]
  },
  {
   "cell_type": "code",
   "execution_count": null,
   "metadata": {
    "collapsed": false,
    "deletable": true,
    "editable": true
   },
   "outputs": [],
   "source": [
    "temper = pd.DataFrame()\n",
    "temper['p_label'] = train['tags'].str.contains('ms-or-phd-needed')\n",
    "temper['p_label'] = temper['p_label'].astype(int)\n",
    "# temper['description'] = y['description']\n",
    "# vectorizer = TfidfVectorizer()\n",
    "# x_train = vectorizer.fit_transform(temper['description'])\n",
    "y_train = temper['p_label']\n",
    "gb7 = BernoulliNB(alpha = 0.1)\n",
    "gb7.fit(x.toarray(),y_train)\n",
    "clf7= LogisticRegression(C = 30.9999999999999999999,penalty  = 'l1')\n",
    "clf7.fit(x.toarray(),y_train)\n"
   ]
  },
  {
   "cell_type": "code",
   "execution_count": null,
   "metadata": {
    "collapsed": false,
    "deletable": true,
    "editable": true
   },
   "outputs": [],
   "source": []
  },
  {
   "cell_type": "code",
   "execution_count": null,
   "metadata": {
    "collapsed": false,
    "deletable": true,
    "editable": true
   },
   "outputs": [],
   "source": [
    "temper = pd.DataFrame()\n",
    "temper['p_label'] = train['tags'].str.contains('license-needed')\n",
    "temper['p_label'] = temper['p_label'].astype(int)\n",
    "# temper['description'] = y['description']\n",
    "# vectorizer = TfidfVectorizer()\n",
    "# x_train = vectorizer.fit_transform(temper['description'])\n",
    "y_train = temper['p_label']\n",
    "gb8 = BernoulliNB(alpha = 0.1)\n",
    "gb8.fit(x.toarray(),y_train)\n",
    "clf8 = gb8"
   ]
  },
  {
   "cell_type": "code",
   "execution_count": null,
   "metadata": {
    "collapsed": false,
    "deletable": true,
    "editable": true
   },
   "outputs": [],
   "source": [
    "temper = pd.DataFrame()\n",
    "temper['p_label'] = train['tags'].str.contains('1-year-experience-needed')\n",
    "temper['p_label'] = temper['p_label'].astype(int)\n",
    "# temper['description'] = y['description']\n",
    "# vectorizer = TfidfVectorizer()\n",
    "# x_train = vectorizer.fit_transform(temper['description'])\n",
    "y_train = temper['p_label']\n",
    "gb9 = BernoulliNB(alpha = 0.1)\n",
    "gb9.fit(x.toarray(),y_train)\n",
    "clf9 = LogisticRegression(C = 30.9999999999999999999,penalty  = 'l1')\n",
    "clf9.fit(x.toarray(),y_train)"
   ]
  },
  {
   "cell_type": "code",
   "execution_count": null,
   "metadata": {
    "collapsed": false,
    "deletable": true,
    "editable": true
   },
   "outputs": [],
   "source": [
    "temper = pd.DataFrame()\n",
    "temper['p_label'] = train['tags'].str.contains('2-4-years-experience-needed')\n",
    "temper['p_label'] = temper['p_label'].astype(int)\n",
    "# temper['description'] = y['description']\n",
    "# vectorizer = TfidfVectorizer()\n",
    "# x_train = vectorizer.fit_transform(temper['description'])\n",
    "y_train = temper['p_label']\n",
    "gb10 = BernoulliNB(alpha = 0.1)\n",
    "gb10.fit(x.toarray(),y_train)\n",
    "clf10 = LogisticRegression(C = 30.9999999999999999999,penalty  = 'l1')\n",
    "clf10.fit(x.toarray(),y_train)"
   ]
  },
  {
   "cell_type": "code",
   "execution_count": null,
   "metadata": {
    "collapsed": false,
    "deletable": true,
    "editable": true
   },
   "outputs": [],
   "source": [
    "temper = pd.DataFrame()\n",
    "temper['p_label'] = train['tags'].str.contains('5-plus-years-experience-needed')\n",
    "temper['p_label'] = temper['p_label'].astype(int)\n",
    "# temper['description'] = y['description']\n",
    "# vectorizer = TfidfVectorizer()\n",
    "# x_train = vectorizer.fit_transform(temper['description'])\n",
    "y_train = temper['p_label']\n",
    "gb11 = BernoulliNB(alpha = 0.1)\n",
    "gb11.fit(x.toarray(),y_train)\n",
    "clf11 = LogisticRegression(C = 30.9999999999999999999,penalty  = 'l1')\n",
    "clf11.fit(x.toarray(),y_train)"
   ]
  },
  {
   "cell_type": "code",
   "execution_count": null,
   "metadata": {
    "collapsed": false,
    "deletable": true,
    "editable": true
   },
   "outputs": [],
   "source": [
    "temper = pd.DataFrame()\n",
    "temper['p_label'] = train['tags'].str.contains('supervising-job')\n",
    "temper['p_label'] = temper['p_label'].astype(int)\n",
    "# temper['description'] = y['description']\n",
    "# vectorizer = TfidfVectorizer()\n",
    "# x_train = vectorizer.fit_transform(temper['description'])\n",
    "y_train = temper['p_label']\n",
    "gb12 = BernoulliNB(alpha = 0.1)\n",
    "gb12.fit(x.toarray(),y_train)\n",
    "clf12 = LogisticRegression(C = 30.9999999999999999999,penalty  = 'l1')\n",
    "clf12.fit(x.toarray(),y_train)"
   ]
  },
  {
   "cell_type": "code",
   "execution_count": null,
   "metadata": {
    "collapsed": false,
    "deletable": true,
    "editable": true
   },
   "outputs": [],
   "source": [
    "temp_test = vectorizer.transform(test['description'])"
   ]
  },
  {
   "cell_type": "code",
   "execution_count": null,
   "metadata": {
    "collapsed": false,
    "deletable": true,
    "editable": true
   },
   "outputs": [],
   "source": [
    "# xg_test xgb.DMatrix(temp_test.toarray())"
   ]
  },
  {
   "cell_type": "code",
   "execution_count": null,
   "metadata": {
    "collapsed": false,
    "deletable": true,
    "editable": true
   },
   "outputs": [],
   "source": [
    "pred1 = gb1.predict(temp_test.toarray())\n",
    "pred11 = clf1.predict(temp_test.toarray())\n",
    "# pred111 = clf11.predict(temp_test.toarray())"
   ]
  },
  {
   "cell_type": "code",
   "execution_count": null,
   "metadata": {
    "collapsed": false,
    "deletable": true,
    "editable": true
   },
   "outputs": [],
   "source": [
    "pred2 = gb2.predict(temp_test.toarray())\n",
    "pred22 = clf2.predict(temp_test.toarray())\n",
    "# pred222 = clf22.predict(temp_test.toarray())"
   ]
  },
  {
   "cell_type": "code",
   "execution_count": null,
   "metadata": {
    "collapsed": true,
    "deletable": true,
    "editable": true
   },
   "outputs": [],
   "source": [
    "pred3 = gb3.predict(temp_test.toarray())\n",
    "pred33 = clf3.predict(temp_test.toarray())\n",
    "# pred333 = clf33.predict(temp_test.toarray())"
   ]
  },
  {
   "cell_type": "code",
   "execution_count": null,
   "metadata": {
    "collapsed": true,
    "deletable": true,
    "editable": true
   },
   "outputs": [],
   "source": [
    "pred4 = gb4.predict(temp_test.toarray())\n",
    "pred44 = clf4.predict(temp_test.toarray())\n",
    "# pred444 = clf44.predict(temp_test.toarray())"
   ]
  },
  {
   "cell_type": "code",
   "execution_count": null,
   "metadata": {
    "collapsed": true,
    "deletable": true,
    "editable": true
   },
   "outputs": [],
   "source": [
    "pred5 = gb5.predict(temp_test.toarray())\n",
    "pred55 = clf5.predict(temp_test.toarray())\n",
    "# pred555 = clf55.predict(temp_test.toarray())"
   ]
  },
  {
   "cell_type": "code",
   "execution_count": null,
   "metadata": {
    "collapsed": true,
    "deletable": true,
    "editable": true
   },
   "outputs": [],
   "source": [
    "pred6 = gb6.predict(temp_test.toarray())\n",
    "pred66 = clf6.predict(temp_test.toarray())\n",
    "# pred666 = clf66.predict(temp_test.toarray())"
   ]
  },
  {
   "cell_type": "code",
   "execution_count": null,
   "metadata": {
    "collapsed": false,
    "deletable": true,
    "editable": true
   },
   "outputs": [],
   "source": [
    "pred7 = gb7.predict(temp_test.toarray())\n",
    "pred77 = clf7.predict(temp_test.toarray())\n",
    "# pred777 = clf77.predict(temp_test.toarray())"
   ]
  },
  {
   "cell_type": "code",
   "execution_count": null,
   "metadata": {
    "collapsed": false,
    "deletable": true,
    "editable": true
   },
   "outputs": [],
   "source": [
    "pred8 = gb8.predict(temp_test.toarray())\n",
    "pred88 = clf8.predict(temp_test.toarray())\n",
    "# pred888 = clf88.predict(temp_test.toarray())"
   ]
  },
  {
   "cell_type": "code",
   "execution_count": null,
   "metadata": {
    "collapsed": true,
    "deletable": true,
    "editable": true
   },
   "outputs": [],
   "source": [
    "pred9 = gb9.predict(temp_test.toarray())\n",
    "pred99 = clf9.predict(temp_test.toarray())\n",
    "# pred999 = clf99.predict(temp_test.toarray())"
   ]
  },
  {
   "cell_type": "code",
   "execution_count": null,
   "metadata": {
    "collapsed": true,
    "deletable": true,
    "editable": true
   },
   "outputs": [],
   "source": [
    "pred10 = gb10.predict(temp_test.toarray())\n",
    "pred1010 = clf10.predict(temp_test.toarray())\n",
    "# pred101010 = clf1010.predict(temp_test.toarray())"
   ]
  },
  {
   "cell_type": "code",
   "execution_count": null,
   "metadata": {
    "collapsed": false,
    "deletable": true,
    "editable": true
   },
   "outputs": [],
   "source": [
    "pred11 = gb11.predict(temp_test.toarray())\n",
    "pred1111 = clf11.predict(temp_test.toarray())\n",
    "# pred111111 = clf1111.predict(temp_test.toarray())"
   ]
  },
  {
   "cell_type": "code",
   "execution_count": null,
   "metadata": {
    "collapsed": true,
    "deletable": true,
    "editable": true
   },
   "outputs": [],
   "source": [
    "pred12 = gb12.predict(temp_test.toarray())\n",
    "pred1212 = clf12.predict(temp_test.toarray())\n",
    "# pred121212 = clf1212.predict(temp_test.toarray())"
   ]
  },
  {
   "cell_type": "code",
   "execution_count": null,
   "metadata": {
    "collapsed": false,
    "deletable": true,
    "editable": true
   },
   "outputs": [],
   "source": [
    "subs = pd.DataFrame()\n",
    "subs['tags'] = pred1\n",
    "k = 0\n",
    "for i1,i2,i3,i4,i5,i6,i7,i8,i9,i10,i11,i12 in zip(pred11,pred22,pred33,pred44,pred55,pred66,pred77,pred88,pred99,pred1010,pred1111,pred1212):\n",
    "    strr = \"\"\n",
    "    if i1 == 1:\n",
    "        strr = strr+ ('part-time-job')    \n",
    "    if i2 == 1:\n",
    "        if len(strr) > 0:\n",
    "            strr = strr+ \" \"           \n",
    "        strr = strr+ ('full-time-job')\n",
    "    if i3 == 1:\n",
    "        if len(strr) > 0:\n",
    "            strr = strr+ \" \"\n",
    "        strr = strr+ ('hourly-wage')\n",
    "    if i4 == 1:\n",
    "        if len(strr) > 0:\n",
    "            strr = strr+ \" \"\n",
    "        strr = strr+ ('salary')\n",
    "    if i5 == 1:\n",
    "        if len(strr) > 0:\n",
    "            strr = strr+ \" \"\n",
    "        strr = strr+ ('associate-needed')\n",
    "    if i6 == 1:\n",
    "        if len(strr) > 0:\n",
    "            strr = strr+ \" \"\n",
    "        strr = strr+ ('bs-degree-needed')\n",
    "    if i7 == 1:\n",
    "        if len(strr) > 0:\n",
    "            strr = strr+ \" \"\n",
    "        strr = strr+ ('ms-or-phd-needed')\n",
    "    if i8 == 1:\n",
    "        if len(strr) > 0:\n",
    "            strr = strr+ \" \"\n",
    "        strr = strr+ ('license-needed')\n",
    "    if i9 == 1:\n",
    "        if len(strr) > 0:\n",
    "            strr = strr+ \" \"\n",
    "        strr = strr+ ('1-year-experience-needed')\n",
    "    if i10 == 1:\n",
    "        if len(strr) > 0:\n",
    "            strr = strr+ \" \"\n",
    "        strr = strr+ ('2-4-years-experience-needed')\n",
    "    if i11 == 1:\n",
    "        if len(strr) > 0:\n",
    "            strr = strr+ \" \"\n",
    "        strr = strr+ ('5-plus-years-experience-needed')\n",
    "    if i12 == 1:\n",
    "        if len(strr) > 0:\n",
    "            strr = strr+ \" \"\n",
    "        strr = strr+ ('supervising-job')\n",
    "#     if i1 == 0 and i2 == 0 and i3 == 0 and i4 == 0 and i5 == 0 and i6 == 0 and i7 == 0 and i8 == 0 and i9 == 0 and i10 == 0and i11 == 0 and i12 == 0:\n",
    "#         strr[k].append('')\n",
    "    subs.ix[k,'tags'] = strr\n",
    "    k = k+1\n",
    "k = 0\n",
    "# for i1,i2,i3,i4,i5,i6,i7,i8,i9,i10,i11,i12 in zip(pred1,pred2,pred3,pred4,pred5,pred6,pred7,pred8,pred9,pred10,pred11,pred12):\n",
    "#     strr = subs.ix[k,'tags']\n",
    "#     if len(strr) <= 1:\n",
    "#         if i1 == 1:\n",
    "#             strr = strr+ ('part-time-job')    \n",
    "#         if i2 == 1:\n",
    "#             if len(strr) > 0:\n",
    "#                 strr = strr+ \" \"           \n",
    "#             strr = strr+ ('full-time-job')\n",
    "#         if i3 == 1:\n",
    "#             if len(strr) > 0:\n",
    "#                 strr = strr+ \" \"\n",
    "#             strr = strr+ ('hourly-wage')\n",
    "#         if i4 == 1:\n",
    "#             if len(strr) > 0:\n",
    "#                 strr = strr+ \" \"\n",
    "#             strr = strr+ ('salary')\n",
    "#         if i5 == 1:\n",
    "#             if len(strr) > 0:\n",
    "#                 strr = strr+ \" \"\n",
    "#             strr = strr+ ('associate-needed')\n",
    "#         if i6 == 1:\n",
    "#             if len(strr) > 0:\n",
    "#                 strr = strr+ \" \"\n",
    "#             strr = strr+ ('bs-degree-needed')\n",
    "#         if i7 == 1:\n",
    "#             if len(strr) > 0:\n",
    "#                 strr = strr+ \" \"\n",
    "#             strr = strr+ ('ms-or-phd-needed')\n",
    "#         if i8 == 1:\n",
    "#             if len(strr) > 0:\n",
    "#                 strr = strr+ \" \"\n",
    "#             strr = strr+ ('license-needed')\n",
    "#         if i9 == 1:\n",
    "#             if len(strr) > 0:\n",
    "#                 strr = strr+ \" \"\n",
    "#             strr = strr+ ('1-year-experience-needed')\n",
    "#         if i10 == 1:\n",
    "#             if len(strr) > 0:\n",
    "#                 strr = strr+ \" \"\n",
    "#             strr = strr+ ('2-4-years-experience-needed')\n",
    "#         if i11 == 1:\n",
    "#             if len(strr) > 0:\n",
    "#                 strr = strr+ \" \"\n",
    "#             strr = strr+ ('5-plus-years-experience-needed')\n",
    "#         if i12 == 1:\n",
    "#             if len(strr) > 0:\n",
    "#                 strr = strr+ \" \"\n",
    "#             strr = strr+ ('supervising-job')\n",
    "# #     if i1 == 0 and i2 == 0 and i3 == 0 and i4 == 0 and i5 == 0 and i6 == 0 and i7 == 0 and i8 == 0 and i9 == 0 and i10 == 0and i11 == 0 and i12 == 0:\n",
    "# #         strr[k].append('')\n",
    "#         subs.ix[k,'tags'] = strr\n",
    "#     k = k+1\n"
   ]
  },
  {
   "cell_type": "code",
   "execution_count": null,
   "metadata": {
    "collapsed": false,
    "deletable": true,
    "editable": true
   },
   "outputs": [],
   "source": [
    "subs['tags']"
   ]
  },
  {
   "cell_type": "code",
   "execution_count": null,
   "metadata": {
    "collapsed": true,
    "deletable": true,
    "editable": true
   },
   "outputs": [],
   "source": [
    "subs.to_csv(\"tesst.tsv\", index=False, quoting=3 )"
   ]
  },
  {
   "cell_type": "code",
   "execution_count": null,
   "metadata": {
    "collapsed": true,
    "deletable": true,
    "editable": true
   },
   "outputs": [],
   "source": []
  }
 ],
 "metadata": {
  "kernelspec": {
   "display_name": "Python [conda root]",
   "language": "python",
   "name": "conda-root-py"
  },
  "language_info": {
   "codemirror_mode": {
    "name": "ipython",
    "version": 3
   },
   "file_extension": ".py",
   "mimetype": "text/x-python",
   "name": "python",
   "nbconvert_exporter": "python",
   "pygments_lexer": "ipython3",
   "version": "3.5.3"
  }
 },
 "nbformat": 4,
 "nbformat_minor": 2
}
