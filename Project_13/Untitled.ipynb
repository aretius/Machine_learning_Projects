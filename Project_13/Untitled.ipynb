{
 "cells": [
  {
   "cell_type": "code",
   "execution_count": 1,
   "metadata": {
    "collapsed": false,
    "deletable": true,
    "editable": true
   },
   "outputs": [],
   "source": [
    "# IMPORTS\n",
    "# Batch_enrolled done nothing\n",
    "import pandas as pd\n",
    "import numpy as np"
   ]
  },
  {
   "cell_type": "code",
   "execution_count": 46,
   "metadata": {
    "collapsed": true,
    "deletable": true,
    "editable": true
   },
   "outputs": [],
   "source": [
    "train = pd.read_csv(\"train_indessa.csv\")\n",
    "test = pd.read_csv(\"test_indessa.csv\")"
   ]
  },
  {
   "cell_type": "code",
   "execution_count": 3,
   "metadata": {
    "collapsed": false,
    "deletable": true,
    "editable": true
   },
   "outputs": [
    {
     "data": {
      "text/html": [
       "<div>\n",
       "<table border=\"1\" class=\"dataframe\">\n",
       "  <thead>\n",
       "    <tr style=\"text-align: right;\">\n",
       "      <th></th>\n",
       "      <th>member_id</th>\n",
       "      <th>loan_amnt</th>\n",
       "      <th>funded_amnt</th>\n",
       "      <th>funded_amnt_inv</th>\n",
       "      <th>term</th>\n",
       "      <th>batch_enrolled</th>\n",
       "      <th>int_rate</th>\n",
       "      <th>grade</th>\n",
       "      <th>sub_grade</th>\n",
       "      <th>emp_title</th>\n",
       "      <th>...</th>\n",
       "      <th>collections_12_mths_ex_med</th>\n",
       "      <th>mths_since_last_major_derog</th>\n",
       "      <th>application_type</th>\n",
       "      <th>verification_status_joint</th>\n",
       "      <th>last_week_pay</th>\n",
       "      <th>acc_now_delinq</th>\n",
       "      <th>tot_coll_amt</th>\n",
       "      <th>tot_cur_bal</th>\n",
       "      <th>total_rev_hi_lim</th>\n",
       "      <th>loan_status</th>\n",
       "    </tr>\n",
       "  </thead>\n",
       "  <tbody>\n",
       "    <tr>\n",
       "      <th>0</th>\n",
       "      <td>58189336</td>\n",
       "      <td>14350</td>\n",
       "      <td>14350</td>\n",
       "      <td>14350.0</td>\n",
       "      <td>36 months</td>\n",
       "      <td></td>\n",
       "      <td>19.19</td>\n",
       "      <td>E</td>\n",
       "      <td>E3</td>\n",
       "      <td>clerk</td>\n",
       "      <td>...</td>\n",
       "      <td>0.0</td>\n",
       "      <td>74.0</td>\n",
       "      <td>INDIVIDUAL</td>\n",
       "      <td>NaN</td>\n",
       "      <td>26th week</td>\n",
       "      <td>0.0</td>\n",
       "      <td>0.0</td>\n",
       "      <td>28699.0</td>\n",
       "      <td>30800.0</td>\n",
       "      <td>0</td>\n",
       "    </tr>\n",
       "    <tr>\n",
       "      <th>1</th>\n",
       "      <td>70011223</td>\n",
       "      <td>4800</td>\n",
       "      <td>4800</td>\n",
       "      <td>4800.0</td>\n",
       "      <td>36 months</td>\n",
       "      <td>BAT1586599</td>\n",
       "      <td>10.99</td>\n",
       "      <td>B</td>\n",
       "      <td>B4</td>\n",
       "      <td>Human Resources Specialist</td>\n",
       "      <td>...</td>\n",
       "      <td>0.0</td>\n",
       "      <td>NaN</td>\n",
       "      <td>INDIVIDUAL</td>\n",
       "      <td>NaN</td>\n",
       "      <td>9th week</td>\n",
       "      <td>0.0</td>\n",
       "      <td>0.0</td>\n",
       "      <td>9974.0</td>\n",
       "      <td>32900.0</td>\n",
       "      <td>0</td>\n",
       "    </tr>\n",
       "    <tr>\n",
       "      <th>2</th>\n",
       "      <td>70255675</td>\n",
       "      <td>10000</td>\n",
       "      <td>10000</td>\n",
       "      <td>10000.0</td>\n",
       "      <td>36 months</td>\n",
       "      <td>BAT1586599</td>\n",
       "      <td>7.26</td>\n",
       "      <td>A</td>\n",
       "      <td>A4</td>\n",
       "      <td>Driver</td>\n",
       "      <td>...</td>\n",
       "      <td>0.0</td>\n",
       "      <td>NaN</td>\n",
       "      <td>INDIVIDUAL</td>\n",
       "      <td>NaN</td>\n",
       "      <td>9th week</td>\n",
       "      <td>0.0</td>\n",
       "      <td>65.0</td>\n",
       "      <td>38295.0</td>\n",
       "      <td>34900.0</td>\n",
       "      <td>0</td>\n",
       "    </tr>\n",
       "    <tr>\n",
       "      <th>3</th>\n",
       "      <td>1893936</td>\n",
       "      <td>15000</td>\n",
       "      <td>15000</td>\n",
       "      <td>15000.0</td>\n",
       "      <td>36 months</td>\n",
       "      <td>BAT4808022</td>\n",
       "      <td>19.72</td>\n",
       "      <td>D</td>\n",
       "      <td>D5</td>\n",
       "      <td>Us office of Personnel Management</td>\n",
       "      <td>...</td>\n",
       "      <td>0.0</td>\n",
       "      <td>NaN</td>\n",
       "      <td>INDIVIDUAL</td>\n",
       "      <td>NaN</td>\n",
       "      <td>135th week</td>\n",
       "      <td>0.0</td>\n",
       "      <td>0.0</td>\n",
       "      <td>55564.0</td>\n",
       "      <td>24700.0</td>\n",
       "      <td>0</td>\n",
       "    </tr>\n",
       "    <tr>\n",
       "      <th>4</th>\n",
       "      <td>7652106</td>\n",
       "      <td>16000</td>\n",
       "      <td>16000</td>\n",
       "      <td>16000.0</td>\n",
       "      <td>36 months</td>\n",
       "      <td>BAT2833642</td>\n",
       "      <td>10.64</td>\n",
       "      <td>B</td>\n",
       "      <td>B2</td>\n",
       "      <td>LAUSD-HOLLYWOOD HIGH SCHOOL</td>\n",
       "      <td>...</td>\n",
       "      <td>0.0</td>\n",
       "      <td>NaN</td>\n",
       "      <td>INDIVIDUAL</td>\n",
       "      <td>NaN</td>\n",
       "      <td>96th week</td>\n",
       "      <td>0.0</td>\n",
       "      <td>0.0</td>\n",
       "      <td>47159.0</td>\n",
       "      <td>47033.0</td>\n",
       "      <td>0</td>\n",
       "    </tr>\n",
       "  </tbody>\n",
       "</table>\n",
       "<p>5 rows × 45 columns</p>\n",
       "</div>"
      ],
      "text/plain": [
       "   member_id  loan_amnt  funded_amnt  funded_amnt_inv       term  \\\n",
       "0   58189336      14350        14350          14350.0  36 months   \n",
       "1   70011223       4800         4800           4800.0  36 months   \n",
       "2   70255675      10000        10000          10000.0  36 months   \n",
       "3    1893936      15000        15000          15000.0  36 months   \n",
       "4    7652106      16000        16000          16000.0  36 months   \n",
       "\n",
       "  batch_enrolled  int_rate grade sub_grade                          emp_title  \\\n",
       "0                    19.19     E        E3                              clerk   \n",
       "1     BAT1586599     10.99     B        B4         Human Resources Specialist   \n",
       "2     BAT1586599      7.26     A        A4                             Driver   \n",
       "3     BAT4808022     19.72     D        D5  Us office of Personnel Management   \n",
       "4     BAT2833642     10.64     B        B2        LAUSD-HOLLYWOOD HIGH SCHOOL   \n",
       "\n",
       "      ...     collections_12_mths_ex_med mths_since_last_major_derog  \\\n",
       "0     ...                            0.0                        74.0   \n",
       "1     ...                            0.0                         NaN   \n",
       "2     ...                            0.0                         NaN   \n",
       "3     ...                            0.0                         NaN   \n",
       "4     ...                            0.0                         NaN   \n",
       "\n",
       "   application_type verification_status_joint last_week_pay acc_now_delinq  \\\n",
       "0        INDIVIDUAL                       NaN     26th week            0.0   \n",
       "1        INDIVIDUAL                       NaN      9th week            0.0   \n",
       "2        INDIVIDUAL                       NaN      9th week            0.0   \n",
       "3        INDIVIDUAL                       NaN    135th week            0.0   \n",
       "4        INDIVIDUAL                       NaN     96th week            0.0   \n",
       "\n",
       "  tot_coll_amt tot_cur_bal total_rev_hi_lim loan_status  \n",
       "0          0.0     28699.0          30800.0           0  \n",
       "1          0.0      9974.0          32900.0           0  \n",
       "2         65.0     38295.0          34900.0           0  \n",
       "3          0.0     55564.0          24700.0           0  \n",
       "4          0.0     47159.0          47033.0           0  \n",
       "\n",
       "[5 rows x 45 columns]"
      ]
     },
     "execution_count": 3,
     "metadata": {},
     "output_type": "execute_result"
    }
   ],
   "source": [
    "train.head()"
   ]
  },
  {
   "cell_type": "code",
   "execution_count": 4,
   "metadata": {
    "collapsed": false,
    "deletable": true,
    "editable": true
   },
   "outputs": [
    {
     "data": {
      "text/html": [
       "<div>\n",
       "<table border=\"1\" class=\"dataframe\">\n",
       "  <thead>\n",
       "    <tr style=\"text-align: right;\">\n",
       "      <th></th>\n",
       "      <th>member_id</th>\n",
       "      <th>loan_amnt</th>\n",
       "      <th>funded_amnt</th>\n",
       "      <th>funded_amnt_inv</th>\n",
       "      <th>term</th>\n",
       "      <th>batch_enrolled</th>\n",
       "      <th>int_rate</th>\n",
       "      <th>grade</th>\n",
       "      <th>sub_grade</th>\n",
       "      <th>emp_title</th>\n",
       "      <th>...</th>\n",
       "      <th>collection_recovery_fee</th>\n",
       "      <th>collections_12_mths_ex_med</th>\n",
       "      <th>mths_since_last_major_derog</th>\n",
       "      <th>application_type</th>\n",
       "      <th>verification_status_joint</th>\n",
       "      <th>last_week_pay</th>\n",
       "      <th>acc_now_delinq</th>\n",
       "      <th>tot_coll_amt</th>\n",
       "      <th>tot_cur_bal</th>\n",
       "      <th>total_rev_hi_lim</th>\n",
       "    </tr>\n",
       "  </thead>\n",
       "  <tbody>\n",
       "    <tr>\n",
       "      <th>0</th>\n",
       "      <td>11937648</td>\n",
       "      <td>14000</td>\n",
       "      <td>14000</td>\n",
       "      <td>14000.0</td>\n",
       "      <td>60 months</td>\n",
       "      <td>BAT4711174</td>\n",
       "      <td>16.24</td>\n",
       "      <td>C</td>\n",
       "      <td>C5</td>\n",
       "      <td>Data Analyst</td>\n",
       "      <td>...</td>\n",
       "      <td>0.0</td>\n",
       "      <td>0.0</td>\n",
       "      <td>NaN</td>\n",
       "      <td>INDIVIDUAL</td>\n",
       "      <td>NaN</td>\n",
       "      <td>104th week</td>\n",
       "      <td>0.0</td>\n",
       "      <td>0.0</td>\n",
       "      <td>85230.0</td>\n",
       "      <td>45700.0</td>\n",
       "    </tr>\n",
       "    <tr>\n",
       "      <th>1</th>\n",
       "      <td>38983318</td>\n",
       "      <td>16000</td>\n",
       "      <td>16000</td>\n",
       "      <td>16000.0</td>\n",
       "      <td>60 months</td>\n",
       "      <td>BAT4318899</td>\n",
       "      <td>9.49</td>\n",
       "      <td>B</td>\n",
       "      <td>B2</td>\n",
       "      <td>Senior Database Administrator</td>\n",
       "      <td>...</td>\n",
       "      <td>0.0</td>\n",
       "      <td>0.0</td>\n",
       "      <td>NaN</td>\n",
       "      <td>INDIVIDUAL</td>\n",
       "      <td>NaN</td>\n",
       "      <td>57th week</td>\n",
       "      <td>0.0</td>\n",
       "      <td>0.0</td>\n",
       "      <td>444991.0</td>\n",
       "      <td>21400.0</td>\n",
       "    </tr>\n",
       "    <tr>\n",
       "      <th>2</th>\n",
       "      <td>27999917</td>\n",
       "      <td>11050</td>\n",
       "      <td>11050</td>\n",
       "      <td>11050.0</td>\n",
       "      <td>60 months</td>\n",
       "      <td>BAT446479</td>\n",
       "      <td>15.61</td>\n",
       "      <td>D</td>\n",
       "      <td>D1</td>\n",
       "      <td>Customer service representative</td>\n",
       "      <td>...</td>\n",
       "      <td>0.0</td>\n",
       "      <td>0.0</td>\n",
       "      <td>26.0</td>\n",
       "      <td>INDIVIDUAL</td>\n",
       "      <td>NaN</td>\n",
       "      <td>70th week</td>\n",
       "      <td>0.0</td>\n",
       "      <td>0.0</td>\n",
       "      <td>105737.0</td>\n",
       "      <td>16300.0</td>\n",
       "    </tr>\n",
       "    <tr>\n",
       "      <th>3</th>\n",
       "      <td>61514932</td>\n",
       "      <td>35000</td>\n",
       "      <td>35000</td>\n",
       "      <td>34700.0</td>\n",
       "      <td>60 months</td>\n",
       "      <td>BAT4664105</td>\n",
       "      <td>12.69</td>\n",
       "      <td>C</td>\n",
       "      <td>C2</td>\n",
       "      <td>ACCT OFFICER</td>\n",
       "      <td>...</td>\n",
       "      <td>0.0</td>\n",
       "      <td>0.0</td>\n",
       "      <td>NaN</td>\n",
       "      <td>INDIVIDUAL</td>\n",
       "      <td>NaN</td>\n",
       "      <td>22th week</td>\n",
       "      <td>0.0</td>\n",
       "      <td>0.0</td>\n",
       "      <td>287022.0</td>\n",
       "      <td>72400.0</td>\n",
       "    </tr>\n",
       "    <tr>\n",
       "      <th>4</th>\n",
       "      <td>59622821</td>\n",
       "      <td>6500</td>\n",
       "      <td>6500</td>\n",
       "      <td>6500.0</td>\n",
       "      <td>36 months</td>\n",
       "      <td></td>\n",
       "      <td>6.89</td>\n",
       "      <td>A</td>\n",
       "      <td>A3</td>\n",
       "      <td>Paralegal</td>\n",
       "      <td>...</td>\n",
       "      <td>0.0</td>\n",
       "      <td>0.0</td>\n",
       "      <td>NaN</td>\n",
       "      <td>INDIVIDUAL</td>\n",
       "      <td>NaN</td>\n",
       "      <td>22th week</td>\n",
       "      <td>0.0</td>\n",
       "      <td>0.0</td>\n",
       "      <td>234278.0</td>\n",
       "      <td>26700.0</td>\n",
       "    </tr>\n",
       "  </tbody>\n",
       "</table>\n",
       "<p>5 rows × 44 columns</p>\n",
       "</div>"
      ],
      "text/plain": [
       "   member_id  loan_amnt  funded_amnt  funded_amnt_inv       term  \\\n",
       "0   11937648      14000        14000          14000.0  60 months   \n",
       "1   38983318      16000        16000          16000.0  60 months   \n",
       "2   27999917      11050        11050          11050.0  60 months   \n",
       "3   61514932      35000        35000          34700.0  60 months   \n",
       "4   59622821       6500         6500           6500.0  36 months   \n",
       "\n",
       "  batch_enrolled  int_rate grade sub_grade                        emp_title  \\\n",
       "0     BAT4711174     16.24     C        C5                     Data Analyst   \n",
       "1     BAT4318899      9.49     B        B2    Senior Database Administrator   \n",
       "2      BAT446479     15.61     D        D1  Customer service representative   \n",
       "3     BAT4664105     12.69     C        C2                     ACCT OFFICER   \n",
       "4                     6.89     A        A3                        Paralegal   \n",
       "\n",
       "        ...        collection_recovery_fee collections_12_mths_ex_med  \\\n",
       "0       ...                            0.0                        0.0   \n",
       "1       ...                            0.0                        0.0   \n",
       "2       ...                            0.0                        0.0   \n",
       "3       ...                            0.0                        0.0   \n",
       "4       ...                            0.0                        0.0   \n",
       "\n",
       "   mths_since_last_major_derog application_type verification_status_joint  \\\n",
       "0                          NaN       INDIVIDUAL                       NaN   \n",
       "1                          NaN       INDIVIDUAL                       NaN   \n",
       "2                         26.0       INDIVIDUAL                       NaN   \n",
       "3                          NaN       INDIVIDUAL                       NaN   \n",
       "4                          NaN       INDIVIDUAL                       NaN   \n",
       "\n",
       "  last_week_pay acc_now_delinq tot_coll_amt tot_cur_bal total_rev_hi_lim  \n",
       "0    104th week            0.0          0.0     85230.0          45700.0  \n",
       "1     57th week            0.0          0.0    444991.0          21400.0  \n",
       "2     70th week            0.0          0.0    105737.0          16300.0  \n",
       "3     22th week            0.0          0.0    287022.0          72400.0  \n",
       "4     22th week            0.0          0.0    234278.0          26700.0  \n",
       "\n",
       "[5 rows x 44 columns]"
      ]
     },
     "execution_count": 4,
     "metadata": {},
     "output_type": "execute_result"
    }
   ],
   "source": [
    "test.head()"
   ]
  },
  {
   "cell_type": "code",
   "execution_count": 5,
   "metadata": {
    "collapsed": false,
    "deletable": true,
    "editable": true
   },
   "outputs": [
    {
     "data": {
      "text/plain": [
       "member_id                           0\n",
       "loan_amnt                           0\n",
       "funded_amnt                         0\n",
       "funded_amnt_inv                     0\n",
       "term                                0\n",
       "batch_enrolled                  85149\n",
       "int_rate                            0\n",
       "grade                               0\n",
       "sub_grade                           0\n",
       "emp_title                       30830\n",
       "emp_length                          0\n",
       "home_ownership                      0\n",
       "annual_inc                          3\n",
       "verification_status                 0\n",
       "pymnt_plan                          0\n",
       "desc                           456829\n",
       "purpose                             0\n",
       "title                              90\n",
       "zip_code                            0\n",
       "addr_state                          0\n",
       "dti                                 0\n",
       "delinq_2yrs                        16\n",
       "inq_last_6mths                     16\n",
       "mths_since_last_delinq         272554\n",
       "mths_since_last_record         450305\n",
       "open_acc                           16\n",
       "pub_rec                            16\n",
       "revol_bal                           0\n",
       "revol_util                        287\n",
       "total_acc                          16\n",
       "initial_list_status                 0\n",
       "total_rec_int                       0\n",
       "total_rec_late_fee                  0\n",
       "recoveries                          0\n",
       "collection_recovery_fee             0\n",
       "collections_12_mths_ex_med         95\n",
       "mths_since_last_major_derog    399448\n",
       "application_type                    0\n",
       "verification_status_joint      532123\n",
       "last_week_pay                       0\n",
       "acc_now_delinq                     16\n",
       "tot_coll_amt                    42004\n",
       "tot_cur_bal                     42004\n",
       "total_rev_hi_lim                42004\n",
       "loan_status                         0\n",
       "dtype: int64"
      ]
     },
     "execution_count": 5,
     "metadata": {},
     "output_type": "execute_result"
    }
   ],
   "source": [
    "train.isnull().sum()"
   ]
  },
  {
   "cell_type": "code",
   "execution_count": 6,
   "metadata": {
    "collapsed": false,
    "deletable": true,
    "editable": true
   },
   "outputs": [
    {
     "data": {
      "text/plain": [
       "member_id                           0\n",
       "loan_amnt                           0\n",
       "funded_amnt                         0\n",
       "funded_amnt_inv                     0\n",
       "term                                0\n",
       "batch_enrolled                  45599\n",
       "int_rate                            0\n",
       "grade                               0\n",
       "sub_grade                           0\n",
       "emp_title                       20627\n",
       "emp_length                          0\n",
       "home_ownership                      0\n",
       "annual_inc                          1\n",
       "verification_status                 0\n",
       "pymnt_plan                          0\n",
       "desc                           304769\n",
       "purpose                             0\n",
       "title                              61\n",
       "zip_code                            0\n",
       "addr_state                          0\n",
       "dti                                 0\n",
       "delinq_2yrs                        13\n",
       "inq_last_6mths                     13\n",
       "mths_since_last_delinq         181758\n",
       "mths_since_last_record         300021\n",
       "open_acc                           13\n",
       "pub_rec                            13\n",
       "revol_bal                           0\n",
       "revol_util                        215\n",
       "total_acc                          13\n",
       "initial_list_status                 0\n",
       "total_rec_int                       0\n",
       "total_rec_late_fee                  0\n",
       "recoveries                          0\n",
       "collection_recovery_fee             0\n",
       "collections_12_mths_ex_med         50\n",
       "mths_since_last_major_derog    266228\n",
       "application_type                    0\n",
       "verification_status_joint      354745\n",
       "last_week_pay                       0\n",
       "acc_now_delinq                     13\n",
       "tot_coll_amt                    28272\n",
       "tot_cur_bal                     28272\n",
       "total_rev_hi_lim                28272\n",
       "dtype: int64"
      ]
     },
     "execution_count": 6,
     "metadata": {},
     "output_type": "execute_result"
    }
   ],
   "source": [
    "test.isnull().sum()"
   ]
  },
  {
   "cell_type": "code",
   "execution_count": 28,
   "metadata": {
    "collapsed": true
   },
   "outputs": [],
   "source": [
    "temp = pd.DataFrame()\n",
    "data = pd.concat([train,test])\n",
    "len(train),len(test),len(data)"
   ]
  },
  {
   "cell_type": "code",
   "execution_count": 29,
   "metadata": {
    "collapsed": false,
    "deletable": true,
    "editable": true
   },
   "outputs": [],
   "source": [
    "# columns = data.columns\n",
    "for i in feat:\n",
    "    temp[i] = data[i]"
   ]
  },
  {
   "cell_type": "code",
   "execution_count": 30,
   "metadata": {
    "collapsed": false
   },
   "outputs": [],
   "source": [
    "data = temp"
   ]
  },
  {
   "cell_type": "code",
   "execution_count": 25,
   "metadata": {
    "collapsed": true
   },
   "outputs": [],
   "source": [
    "feat = [\n",
    "    'acc_now_delinq',\n",
    "    'annual_inc',                \n",
    "    'collection_recovery_fee',       \n",
    "    'collections_12_mths_ex_med',     \n",
    "    'delinq_2yrs',\n",
    "    'dti',                            \n",
    "    'funded_amnt',                    \n",
    "    'funded_amnt_inv',                \n",
    "    'inq_last_6mths',                 \n",
    "    'int_rate',                       \n",
    "    'loan_amnt',                      \n",
    "    'mths_since_last_delinq',         \n",
    "    'mths_since_last_major_derog',    \n",
    "    'mths_since_last_record',         \n",
    "    'open_acc',                       \n",
    "    'pub_rec',                        \n",
    "    'recoveries',\n",
    "    'revol_bal',                      \n",
    "    'revol_util',                     \n",
    "    'tot_coll_amt',                   \n",
    "    'tot_cur_bal',                    \n",
    "    'total_acc',\n",
    "    'total_rec_int',                  \n",
    "    'total_rec_late_fee',             \n",
    "    'total_rev_hi_lim', \n",
    "    'term',\n",
    "    'sub_grade',\n",
    "    'emp_title',\n",
    "    'emp_length',\n",
    "    'home_ownership',\n",
    "    'verification_status',\n",
    "    'pymnt_plan',\n",
    "    'desc'\n",
    "       ]"
   ]
  },
  {
   "cell_type": "code",
   "execution_count": null,
   "metadata": {
    "collapsed": true,
    "deletable": true,
    "editable": true
   },
   "outputs": [],
   "source": [
    "set(data['term'])"
   ]
  },
  {
   "cell_type": "code",
   "execution_count": 43,
   "metadata": {
    "collapsed": false,
    "deletable": true,
    "editable": true
   },
   "outputs": [
    {
     "name": "stdout",
     "output_type": "stream",
     "text": [
      "acc_now_delinq\n",
      "annual_inc\n",
      "collection_recovery_fee\n",
      "collections_12_mths_ex_med\n",
      "delinq_2yrs\n",
      "dti\n",
      "funded_amnt\n",
      "funded_amnt_inv\n",
      "inq_last_6mths\n",
      "int_rate\n",
      "loan_amnt\n",
      "mths_since_last_delinq\n",
      "mths_since_last_major_derog\n",
      "mths_since_last_record\n",
      "open_acc\n",
      "pub_rec\n",
      "recoveries\n",
      "revol_bal\n",
      "revol_util\n",
      "tot_coll_amt\n",
      "tot_cur_bal\n",
      "total_acc\n",
      "total_rec_int\n",
      "total_rec_late_fee\n",
      "total_rev_hi_lim\n",
      "new_term\n",
      "sub_grade_A1\n",
      "sub_grade_A2\n",
      "sub_grade_A3\n",
      "sub_grade_A4\n",
      "sub_grade_A5\n",
      "sub_grade_B1\n",
      "sub_grade_B2\n",
      "sub_grade_B3\n",
      "sub_grade_B4\n",
      "sub_grade_B5\n",
      "sub_grade_C1\n",
      "sub_grade_C2\n",
      "sub_grade_C3\n",
      "sub_grade_C4\n",
      "sub_grade_C5\n",
      "sub_grade_D1\n",
      "sub_grade_D2\n",
      "sub_grade_D3\n",
      "sub_grade_D4\n",
      "sub_grade_D5\n",
      "sub_grade_E1\n",
      "sub_grade_E2\n",
      "sub_grade_E3\n",
      "sub_grade_E4\n",
      "sub_grade_E5\n",
      "sub_grade_F1\n",
      "sub_grade_F2\n",
      "sub_grade_F3\n",
      "sub_grade_F4\n",
      "sub_grade_F5\n",
      "sub_grade_G1\n",
      "sub_grade_G2\n",
      "sub_grade_G3\n",
      "sub_grade_G4\n",
      "sub_grade_G5\n",
      "new_emp_title\n",
      "new_emp_length\n",
      "home_ownership_ANY\n",
      "home_ownership_MORTGAGE\n",
      "home_ownership_NONE\n",
      "home_ownership_OTHER\n",
      "home_ownership_OWN\n",
      "home_ownership_RENT\n",
      "verification_status_Not Verified\n",
      "verification_status_Source Verified\n",
      "verification_status_Verified\n",
      "pymnt_plan_n\n",
      "pymnt_plan_y\n",
      "new_desc\n"
     ]
    }
   ],
   "source": [
    "for i in data.columns:\n",
    "    print(i)"
   ]
  },
  {
   "cell_type": "code",
   "execution_count": 32,
   "metadata": {
    "collapsed": false,
    "deletable": true,
    "editable": true
   },
   "outputs": [],
   "source": [
    "data['new_term'] =data['term'].str.split(' ').str[0]\n",
    "data['new_term'] = data['new_term'].astype(int)\n",
    "data = data.drop('term',1)"
   ]
  },
  {
   "cell_type": "code",
   "execution_count": 33,
   "metadata": {
    "collapsed": false,
    "deletable": true,
    "editable": true
   },
   "outputs": [],
   "source": [
    "data = pd.concat([data,  pd.get_dummies(data[['sub_grade']])],1)\n",
    "data = data.drop('sub_grade',1)\n",
    "# data = data.drop('grade',1)"
   ]
  },
  {
   "cell_type": "code",
   "execution_count": 34,
   "metadata": {
    "collapsed": true,
    "deletable": true,
    "editable": true
   },
   "outputs": [],
   "source": [
    "data['new_emp_title'] = data['emp_title'].apply(str).apply(len)\n",
    "data = data.drop('emp_title',1)"
   ]
  },
  {
   "cell_type": "code",
   "execution_count": 35,
   "metadata": {
    "collapsed": false,
    "deletable": true,
    "editable": true
   },
   "outputs": [
    {
     "data": {
      "text/plain": [
       "{'1 year',\n",
       " '10+ years',\n",
       " '2 years',\n",
       " '3 years',\n",
       " '4 years',\n",
       " '5 years',\n",
       " '6 years',\n",
       " '7 years',\n",
       " '8 years',\n",
       " '9 years',\n",
       " '< 1 year',\n",
       " 'n/a'}"
      ]
     },
     "execution_count": 35,
     "metadata": {},
     "output_type": "execute_result"
    }
   ],
   "source": [
    "set(data['emp_length'])"
   ]
  },
  {
   "cell_type": "code",
   "execution_count": 36,
   "metadata": {
    "collapsed": false,
    "deletable": true,
    "editable": true
   },
   "outputs": [],
   "source": [
    "mapping = {'1 year':1,\n",
    " '10+ years':10.5,\n",
    " '2 years':2,\n",
    " '3 years':3,\n",
    " '4 years':4,\n",
    " '5 years':5,\n",
    " '6 years':6,\n",
    " '7 years':7,\n",
    " '8 years':8,\n",
    " '9 years':9,\n",
    " '< 1 year':0.5,\n",
    " 'n/a':-1}\n",
    "data['new_emp_length'] = data['emp_length'].map(mapping)\n",
    "data = data.drop('emp_length',1)"
   ]
  },
  {
   "cell_type": "code",
   "execution_count": null,
   "metadata": {
    "collapsed": false,
    "deletable": true,
    "editable": true
   },
   "outputs": [],
   "source": [
    "set(data['home_ownership'])"
   ]
  },
  {
   "cell_type": "code",
   "execution_count": 37,
   "metadata": {
    "collapsed": true,
    "deletable": true,
    "editable": true
   },
   "outputs": [],
   "source": [
    "data = pd.concat([data, pd.get_dummies(data[['home_ownership']])],1)\n",
    "data = data.drop('home_ownership',1)"
   ]
  },
  {
   "cell_type": "code",
   "execution_count": null,
   "metadata": {
    "collapsed": false,
    "deletable": true,
    "editable": true
   },
   "outputs": [],
   "source": [
    "set(data['verification_status'])"
   ]
  },
  {
   "cell_type": "code",
   "execution_count": 38,
   "metadata": {
    "collapsed": true,
    "deletable": true,
    "editable": true
   },
   "outputs": [],
   "source": [
    "data = pd.concat([data, pd.get_dummies(data[['verification_status']])],1)\n",
    "data = data.drop('verification_status',1)"
   ]
  },
  {
   "cell_type": "code",
   "execution_count": null,
   "metadata": {
    "collapsed": false,
    "deletable": true,
    "editable": true
   },
   "outputs": [],
   "source": [
    "set(data['pymnt_plan'])"
   ]
  },
  {
   "cell_type": "code",
   "execution_count": 39,
   "metadata": {
    "collapsed": true,
    "deletable": true,
    "editable": true
   },
   "outputs": [],
   "source": [
    "data = pd.concat([data, pd.get_dummies(data[['pymnt_plan']])],1)\n",
    "data = data.drop('pymnt_plan',1)"
   ]
  },
  {
   "cell_type": "code",
   "execution_count": null,
   "metadata": {
    "collapsed": true,
    "deletable": true,
    "editable": true
   },
   "outputs": [],
   "source": [
    "set(data['desc'])"
   ]
  },
  {
   "cell_type": "code",
   "execution_count": 40,
   "metadata": {
    "collapsed": true,
    "deletable": true,
    "editable": true
   },
   "outputs": [],
   "source": [
    "data['new_desc'] = data['desc'].apply(str).apply(len)\n",
    "data = data.drop('desc',1)"
   ]
  },
  {
   "cell_type": "code",
   "execution_count": null,
   "metadata": {
    "collapsed": true,
    "deletable": true,
    "editable": true
   },
   "outputs": [],
   "source": [
    "set(data['addr_state'])"
   ]
  },
  {
   "cell_type": "code",
   "execution_count": null,
   "metadata": {
    "collapsed": true,
    "deletable": true,
    "editable": true
   },
   "outputs": [],
   "source": [
    "data = pd.concat([data, pd.get_dummies(data[['addr_state']])],1)\n",
    "data = data.drop('addr_state',1)"
   ]
  },
  {
   "cell_type": "code",
   "execution_count": null,
   "metadata": {
    "collapsed": true,
    "deletable": true,
    "editable": true
   },
   "outputs": [],
   "source": [
    "set(data['title'])"
   ]
  },
  {
   "cell_type": "code",
   "execution_count": null,
   "metadata": {
    "collapsed": true,
    "deletable": true,
    "editable": true
   },
   "outputs": [],
   "source": [
    "data['new_title'] = data['title'].apply(str).apply(len)\n",
    "data = data.drop('title',1)"
   ]
  },
  {
   "cell_type": "code",
   "execution_count": null,
   "metadata": {
    "collapsed": true,
    "deletable": true,
    "editable": true
   },
   "outputs": [],
   "source": [
    "set(data['zip_code'])"
   ]
  },
  {
   "cell_type": "code",
   "execution_count": null,
   "metadata": {
    "collapsed": false,
    "deletable": true,
    "editable": true
   },
   "outputs": [],
   "source": [
    "data['new_zip_code'] = data['zip_code'].str.rsplit('xx').str[0]\n",
    "data['new_zip_code'] = data['new_zip_code'].astype(int)\n",
    "data = data.drop('zip_code',1)"
   ]
  },
  {
   "cell_type": "code",
   "execution_count": null,
   "metadata": {
    "collapsed": false,
    "deletable": true,
    "editable": true
   },
   "outputs": [],
   "source": [
    "set(data['initial_list_status'])"
   ]
  },
  {
   "cell_type": "code",
   "execution_count": null,
   "metadata": {
    "collapsed": false,
    "deletable": true,
    "editable": true
   },
   "outputs": [],
   "source": [
    "data = pd.concat([data, pd.get_dummies(data[['initial_list_status']])],1)\n",
    "data = data.drop('initial_list_status',1)"
   ]
  },
  {
   "cell_type": "code",
   "execution_count": null,
   "metadata": {
    "collapsed": false,
    "deletable": true,
    "editable": true
   },
   "outputs": [],
   "source": [
    "set(data['application_type'])"
   ]
  },
  {
   "cell_type": "code",
   "execution_count": null,
   "metadata": {
    "collapsed": true,
    "deletable": true,
    "editable": true
   },
   "outputs": [],
   "source": [
    "data = pd.concat([data, pd.get_dummies(data[['application_type']])],1)\n",
    "data = data.drop('application_type',1)"
   ]
  },
  {
   "cell_type": "code",
   "execution_count": null,
   "metadata": {
    "collapsed": false,
    "deletable": true,
    "editable": true
   },
   "outputs": [],
   "source": [
    "set(data['verification_status_joint'])"
   ]
  },
  {
   "cell_type": "code",
   "execution_count": null,
   "metadata": {
    "collapsed": true,
    "deletable": true,
    "editable": true
   },
   "outputs": [],
   "source": [
    "data = pd.concat([data, pd.get_dummies(data[['verification_status_joint']])],1)\n",
    "data = data.drop('verification_status_joint',1)"
   ]
  },
  {
   "cell_type": "code",
   "execution_count": null,
   "metadata": {
    "collapsed": true,
    "deletable": true,
    "editable": true
   },
   "outputs": [],
   "source": [
    "set(data['last_week_pay'])"
   ]
  },
  {
   "cell_type": "code",
   "execution_count": null,
   "metadata": {
    "collapsed": false,
    "deletable": true,
    "editable": true
   },
   "outputs": [],
   "source": [
    "mapping = {'0th week':0,\n",
    " '100th week':100,\n",
    " '104th week':104,\n",
    " '108th week':108,\n",
    " '109th week':109,\n",
    " '113th week':113,\n",
    " '117th week':117,\n",
    " '118th week':118,\n",
    " '121th week':121,\n",
    " '122th week':122,\n",
    " '126th week':126,\n",
    " '130th week':130,\n",
    " '131th week':131,\n",
    " '135th week':135,\n",
    " '139th week':139,\n",
    " '13th week':13,\n",
    " '143th week':143,\n",
    " '144th week':144,\n",
    " '148th week':148,\n",
    " '152th week':152,\n",
    " '153th week':153,\n",
    " '156th week':156,\n",
    " '157th week':157,\n",
    " '161th week':161,\n",
    " '165th week':165,\n",
    " '169th week':169,\n",
    " '170th week':170,\n",
    " '174th week':174,\n",
    " '178th week':178,\n",
    " '17th week':17,\n",
    " '182th week':182,\n",
    " '183th week':183,\n",
    " '187th week':187,\n",
    " '18th week':18,\n",
    " '191th week':191,\n",
    " '192th week':192,\n",
    " '196th week':196,\n",
    " '200th week':200,\n",
    " '204th week':204,\n",
    " '205th week':205,\n",
    " '209th week':209,\n",
    " '213th week':213,\n",
    " '217th week':217,\n",
    " '218th week':218,\n",
    " '21th week':21,\n",
    " '221th week':221,\n",
    " '222th week':222,\n",
    " '226th week':226,\n",
    " '22th week':22,\n",
    " '230th week':230,\n",
    " '231th week':231,\n",
    " '235th week':235,\n",
    " '239th week':239,\n",
    " '243th week':243,\n",
    " '244th week':244,\n",
    " '248th week':248,\n",
    " '252th week':252,\n",
    " '256th week':256,\n",
    " '257th week':257,\n",
    " '261th week':261,\n",
    " '265th week':265,\n",
    " '269th week':269,\n",
    " '26th week':26,\n",
    " '270th week':270,\n",
    " '274th week':274,\n",
    " '278th week':278,\n",
    " '283th week':283,\n",
    " '291th week':291,\n",
    " '300th week':300,\n",
    " '304th week':304,\n",
    " '30th week':30,\n",
    " '31th week':31,\n",
    " '35th week':35,\n",
    " '39th week':39,\n",
    " '43th week':43,\n",
    " '44th week':44,\n",
    " '48th week':48,\n",
    " '4th week':4,\n",
    " '52th week':52,\n",
    " '56th week':56,\n",
    " '57th week':57,\n",
    " '61th week':61,\n",
    " '65th week':65,\n",
    " '69th week':69,\n",
    " '70th week':70,\n",
    " '74th week':74,\n",
    " '78th week':78,\n",
    " '79th week':79,\n",
    " '82th week':82,\n",
    " '83th week':83,\n",
    " '87th week':87,\n",
    " '8th week':8,\n",
    " '91th week':91,\n",
    " '92th week':92,\n",
    " '95th week':95,\n",
    " '96th week':96,\n",
    " '9th week':9,\n",
    " 'NAth week':-1}\n",
    "data['new_last_week_pay'] = data['last_week_pay'].map(mapping)\n",
    "data = data.drop('last_week_pay',1)"
   ]
  },
  {
   "cell_type": "code",
   "execution_count": null,
   "metadata": {
    "collapsed": true,
    "deletable": true,
    "editable": true
   },
   "outputs": [],
   "source": [
    "set(data['purpose'])"
   ]
  },
  {
   "cell_type": "code",
   "execution_count": null,
   "metadata": {
    "collapsed": true,
    "deletable": true,
    "editable": true
   },
   "outputs": [],
   "source": [
    "data = pd.concat([data , pd.get_dummies(data[['purpose']])],1)\n",
    "data = data.drop('purpose',1)"
   ]
  },
  {
   "cell_type": "code",
   "execution_count": null,
   "metadata": {
    "collapsed": true,
    "deletable": true,
    "editable": true
   },
   "outputs": [],
   "source": [
    "set(data['batch_enrolled'])"
   ]
  },
  {
   "cell_type": "code",
   "execution_count": null,
   "metadata": {
    "collapsed": false,
    "deletable": true,
    "editable": true
   },
   "outputs": [],
   "source": [
    "data['new_batch'] = data['batch_enrolled'].str.rsplit('BAT').str[1]\n",
    "data['new_batch'] = data['new_batch'].astype(float)\n",
    "data = data.drop('batch_enrolled',1)"
   ]
  },
  {
   "cell_type": "code",
   "execution_count": 41,
   "metadata": {
    "collapsed": false,
    "deletable": true,
    "editable": true
   },
   "outputs": [],
   "source": [
    "# data = temp\n",
    "mm_id = test['member_id']\n",
    "# data = temp\n",
    "# data = data.drop('member_id',1)"
   ]
  },
  {
   "cell_type": "code",
   "execution_count": 42,
   "metadata": {
    "collapsed": false,
    "deletable": true,
    "editable": true
   },
   "outputs": [],
   "source": [
    "from sklearn.preprocessing import Imputer\n",
    "imr = Imputer(missing_values = 'NaN', strategy = 'median', axis = 0)\n",
    "imputed_data = pd.DataFrame(imr.fit_transform(data))\n",
    "imputed_data.columns = data.columns\n",
    "imputed_data.index = data.index\n",
    "\n",
    "# fill_NaN = Imputer(missing_values='NaN', strategy='median', axis=1)\n",
    "# imputed_DF = pd.DataFrame(fill_NaN.fit_transform(DF))\n",
    "# imputed_DF.columns = DF.columns\n",
    "# imputed_DF.index = DF.index"
   ]
  },
  {
   "cell_type": "code",
   "execution_count": 53,
   "metadata": {
    "collapsed": false,
    "deletable": true,
    "editable": true
   },
   "outputs": [],
   "source": [
    "# (532428, 354951, 887379)\n",
    "train =imputed_data[:532428]\n",
    "test = imputed_data[532428:]\n",
    "# x = train.drop('loan_status',1)\n",
    "# y  = train['loan_status']\n",
    "# x = train"
   ]
  },
  {
   "cell_type": "code",
   "execution_count": 49,
   "metadata": {
    "collapsed": false,
    "deletable": true,
    "editable": true
   },
   "outputs": [],
   "source": [
    "from sklearn.ensemble import RandomForestClassifier\n",
    "from sklearn.linear_model import LogisticRegression\n",
    "# test = test.drop('loan_status',1)\n"
   ]
  },
  {
   "cell_type": "code",
   "execution_count": 54,
   "metadata": {
    "collapsed": false
   },
   "outputs": [],
   "source": [
    "from sklearn.metrics import roc_auc_score\n",
    "from sklearn.model_selection import train_test_split\n",
    "X_train, X_test, y_train, y_test = train_test_split(\n",
    "    x, y, test_size=0.2, random_state=42)\n",
    "# 0.01 0.1 100 , with l2 = 100"
   ]
  },
  {
   "cell_type": "code",
   "execution_count": null,
   "metadata": {
    "collapsed": false,
    "deletable": true,
    "editable": true
   },
   "outputs": [
    {
     "name": "stderr",
     "output_type": "stream",
     "text": [
      "C:\\Program Files\\Anaconda3\\lib\\site-packages\\sklearn\\linear_model\\base.py:352: RuntimeWarning: overflow encountered in exp\n",
      "  np.exp(prob, prob)\n"
     ]
    }
   ],
   "source": [
    "c = [0.01,0.1,100]\n",
    "scores =[]\n",
    "scores2 = []\n",
    "for i in c:\n",
    "    clf2 = LogisticRegression(C = i,penalty = 'l1')\n",
    "    clf2.fit(X_train,y_train)\n",
    "    preds = clf2.predict_proba(X_test)    \n",
    "    scores2.append(roc_auc_score(y_test,preds[:,1]))\n",
    "    "
   ]
  },
  {
   "cell_type": "code",
   "execution_count": null,
   "metadata": {
    "collapsed": false
   },
   "outputs": [],
   "source": [
    "for i in range(0,3):\n",
    "    print(scores2[i])"
   ]
  },
  {
   "cell_type": "code",
   "execution_count": null,
   "metadata": {
    "collapsed": false,
    "deletable": true,
    "editable": true,
    "scrolled": true
   },
   "outputs": [],
   "source": [
    "n = [300]\n",
    "for i in range(0,1):\n",
    "    clf = RandomForestClassifier(n_estimators = n[i])\n",
    "    clf.fit(X_train,y_train)\n",
    "    preds = clf.predict_proba(X_test)\n",
    "    scores.append(roc_auc_score(y_test,preds[:,1]))"
   ]
  },
  {
   "cell_type": "code",
   "execution_count": null,
   "metadata": {
    "collapsed": false
   },
   "outputs": [],
   "source": [
    "for i in range(0,1):\n",
    "    print(scores[i])"
   ]
  },
  {
   "cell_type": "code",
   "execution_count": null,
   "metadata": {
    "collapsed": false,
    "deletable": true,
    "editable": true
   },
   "outputs": [],
   "source": [
    "clf.fit(x,y)"
   ]
  },
  {
   "cell_type": "code",
   "execution_count": null,
   "metadata": {
    "collapsed": false,
    "deletable": true,
    "editable": true
   },
   "outputs": [],
   "source": [
    "\n",
    "preds = clf.predict_proba(test)\n",
    "# clf2.fit(x,y)"
   ]
  },
  {
   "cell_type": "code",
   "execution_count": null,
   "metadata": {
    "collapsed": false,
    "deletable": true,
    "editable": true
   },
   "outputs": [],
   "source": [
    "preds1 = clf2.predict_proba(test)\n",
    "sub = pd.DataFrame()\n",
    "sub['member_id'] = mm_id\n",
    "sub['loan_status'] = (preds[:,1]+preds1[:,1])/2.0\n",
    "sub.to_csv(\"submission_rf.csv\", index=False)"
   ]
  },
  {
   "cell_type": "code",
   "execution_count": null,
   "metadata": {
    "collapsed": false
   },
   "outputs": [],
   "source": []
  },
  {
   "cell_type": "code",
   "execution_count": null,
   "metadata": {
    "collapsed": false
   },
   "outputs": [],
   "source": []
  },
  {
   "cell_type": "code",
   "execution_count": null,
   "metadata": {
    "collapsed": true
   },
   "outputs": [],
   "source": []
  },
  {
   "cell_type": "code",
   "execution_count": null,
   "metadata": {
    "collapsed": true
   },
   "outputs": [],
   "source": []
  }
 ],
 "metadata": {
  "kernelspec": {
   "display_name": "Python [conda root]",
   "language": "python",
   "name": "conda-root-py"
  },
  "language_info": {
   "codemirror_mode": {
    "name": "ipython",
    "version": 3
   },
   "file_extension": ".py",
   "mimetype": "text/x-python",
   "name": "python",
   "nbconvert_exporter": "python",
   "pygments_lexer": "ipython3",
   "version": "3.5.3"
  }
 },
 "nbformat": 4,
 "nbformat_minor": 2
}
